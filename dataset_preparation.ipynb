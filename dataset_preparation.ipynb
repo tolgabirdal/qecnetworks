{
 "cells": [
  {
   "cell_type": "markdown",
   "metadata": {},
   "source": [
    "## Prerequisites\n",
    "* Download dataset from https://shapenet.cs.stanford.edu/media/modelnet40_normal_resampled.zip and unzip.\n",
    "* Install [PCL](https://pointclouds.org/downloads/), [NumPy](https://numpy.org/install/), [Open3D](http://www.open3d.org/), and [pyquaternion](http://kieranwynn.github.io/pyquaternion/).\n",
    "\n",
    "## 1. Prepare random uniform downsampled indices of points\n",
    "Change `root` in `gen_downsample_index.py` according to where the dataset is located. Run it for both splits (train and test).\n",
    "\n",
    "Note that this step is not a prerequisite for the following data preparation steps."
   ]
  },
  {
   "cell_type": "code",
   "execution_count": null,
   "metadata": {},
   "outputs": [],
   "source": [
    "%cd my_dataloader\n",
    "!python gen_downsample_index.py\n",
    "%cd .."
   ]
  },
  {
   "cell_type": "markdown",
   "metadata": {},
   "source": [
    "## 2. Optional: convert txt file into PCD file for LRF computation\n",
    "txt file could also parsed and used for the LRF computation."
   ]
  },
  {
   "cell_type": "code",
   "execution_count": null,
   "metadata": {},
   "outputs": [],
   "source": [
    "import open3d as o3d\n",
    "import numpy as np\n",
    "import glob"
   ]
  },
  {
   "cell_type": "code",
   "execution_count": null,
   "metadata": {},
   "outputs": [],
   "source": [
    "all_files = glob.glob('modelnet40_normal_resampled/*/*.txt')\n",
    "\n",
    "for file in all_files:\n",
    "    f = open(file)\n",
    "    pc = []\n",
    "    \n",
    "    for line in f:\n",
    "        l = line.split(',')\n",
    "        pc.append([float(l[0]), float(l[1]), float(l[2])])\n",
    "\n",
    "    pc = np.array(pc)\n",
    "    # Create PointCloud object\n",
    "    pcd = o3d.geometry.PointCloud()\n",
    "    pcd.points = o3d.utility.Vector3dVector(pc)\n",
    "    \n",
    "    o3d.io.write_point_cloud(file[:-3] + \"pcd\", pcd)"
   ]
  },
  {
   "cell_type": "markdown",
   "metadata": {},
   "source": [
    "## 3. Compute LRF\n",
    "PCL implementation of FLARE can be used for the computation of LRFs. See [flare](flare) folder in order to use it. All point cloud file names should be saved in `all_pcd_files.txt` before using it.\n",
    "\n",
    "## 4. Convert LRF orientation to quaternion and find the indices of invalid points"
   ]
  },
  {
   "cell_type": "code",
   "execution_count": null,
   "metadata": {},
   "outputs": [],
   "source": [
    "from pyquaternion import Quaternion\n",
    "\n",
    "all_lrf_files = [f[:-4] + \"_rot.txt\" for f in all_files]\n",
    "for f in all_lrf_files:\n",
    "    file = open(f).readlines()\n",
    "    quat = np.zeros((len(file), 4))\n",
    "    wrong_ids = []\n",
    "    for i, line in enumerate(file[1:]):  # assuming that there is a header row in the file\n",
    "        lrf = line.split(\" \")\n",
    "        \n",
    "        vecs = np.zeros((3, 3))\n",
    "        vecs[0] = [float(lrf[0]), float(lrf[1]), float(lrf[2])]  # x\n",
    "        vecs[1] = [float(lrf[3]), float(lrf[4]), float(lrf[5])]  # y\n",
    "        vecs[2] = [float(lrf[6]), float(lrf[7]), float(lrf[8][:-1])] # z - don't take last char since it is \\n\n",
    "        \n",
    "        rotation = vecs.transpose()\n",
    "        try:\n",
    "            potential = Quaternion._from_matrix(rotation, rtol=1e-03, atol=1e-03).q\n",
    "            if all(p < 1e+20 for p in potential):\n",
    "                quat[i] = potential\n",
    "            else:\n",
    "                quat[i] = np.array([0,0,0,0])\n",
    "                wrong_ids.append(i)\n",
    "        except:\n",
    "            quat[i] = np.array([0,0,0,0])\n",
    "            wrong_ids.append(i)\n",
    "    np.savetxt(f[:-8] + '.qua', quat, encoding='ascii')\n",
    "    np.savetxt(f[:-8] + '.idx', np.array(wrong_ids), encoding='ascii')"
   ]
  }
 ],
 "metadata": {
  "kernelspec": {
   "display_name": "scan2npy",
   "language": "python",
   "name": "scan2npy"
  },
  "language_info": {
   "codemirror_mode": {
    "name": "ipython",
    "version": 3
   },
   "file_extension": ".py",
   "mimetype": "text/x-python",
   "name": "python",
   "nbconvert_exporter": "python",
   "pygments_lexer": "ipython3",
   "version": "3.7.9"
  }
 },
 "nbformat": 4,
 "nbformat_minor": 4
}
